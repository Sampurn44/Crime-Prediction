{
 "cells": [
  {
   "cell_type": "code",
   "execution_count": 1,
   "metadata": {},
   "outputs": [],
   "source": [
    "import numpy as np\n",
    "import pandas as pd\n",
    "import matplotlib.pyplot as plt\n",
    "from statsmodels.tsa.arima.model import ARIMA\n",
    "from sklearn.metrics import mean_absolute_error, mean_squared_error\n"
   ]
  },
  {
   "cell_type": "code",
   "execution_count": 2,
   "metadata": {},
   "outputs": [],
   "source": [
    "\n",
    "# Load the dataset\n",
    "file_path = \"datasetupdated.csv\"  # Ensure the file is in the correct path\n",
    "df = pd.read_csv(file_path)\n",
    "\n"
   ]
  },
  {
   "cell_type": "code",
   "execution_count": 4,
   "metadata": {},
   "outputs": [],
   "source": [
    "\n",
    "# Prepare Data for ARIMAX\n",
    "df['ds'] = pd.to_datetime(df['YEAR'], format='%Y')\n",
    "df = df[['ds', 'CasesReported', 'Total Cases for Investigation (Col.7=Col.4+ Col.5+ Col.6)']].dropna()\n"
   ]
  },
  {
   "cell_type": "code",
   "execution_count": 6,
   "metadata": {},
   "outputs": [],
   "source": [
    "\n",
    "# Define train data\n",
    "y = df['CasesReported']\n",
    "X = df[['Total Cases for Investigation (Col.7=Col.4+ Col.5+ Col.6)']]\n"
   ]
  },
  {
   "cell_type": "code",
   "execution_count": 7,
   "metadata": {},
   "outputs": [
    {
     "name": "stderr",
     "output_type": "stream",
     "text": [
      "C:\\Users\\sampu\\AppData\\Roaming\\Python\\Python313\\site-packages\\statsmodels\\base\\model.py:607: ConvergenceWarning: Maximum Likelihood optimization failed to converge. Check mle_retvals\n",
      "  warnings.warn(\"Maximum Likelihood optimization failed to \"\n"
     ]
    }
   ],
   "source": [
    "\n",
    "# Train ARIMAX Model\n",
    "arimax_order = (3, 2, 1)  # Order from previous tuning\n",
    "arimax_model = ARIMA(y, exog=X, order=arimax_order)\n",
    "arimax_fit = arimax_model.fit()\n"
   ]
  },
  {
   "cell_type": "code",
   "execution_count": 18,
   "metadata": {},
   "outputs": [],
   "source": [
    "\n",
    "# Future Predictions (5 years)\n",
    "future_years = pd.date_range(start=df['ds'].max() + pd.DateOffset(years=1), periods=5, freq='YE')\n",
    "future_exog = np.linspace(X.iloc[-1, 0], X.iloc[-1, 0] * 1.2, num=5).reshape(-1, 1)  # Simulated growth for exog variable\n",
    "arimax_forecast = arimax_fit.forecast(steps=5, exog=future_exog)\n",
    "\n"
   ]
  },
  {
   "cell_type": "code",
   "execution_count": 20,
   "metadata": {},
   "outputs": [
    {
     "name": "stdout",
     "output_type": "stream",
     "text": [
      "Corrected ARIMAX Forecast Values:\n",
      "270    73.063507\n",
      "271    88.981294\n",
      "272    96.589777\n",
      "273    89.834810\n",
      "274    92.871616\n",
      "Name: predicted_mean, dtype: float64\n"
     ]
    }
   ],
   "source": [
    "\n",
    "print(\"Corrected ARIMAX Forecast Values:\")\n",
    "print(arimax_forecast)"
   ]
  },
  {
   "cell_type": "code",
   "execution_count": 12,
   "metadata": {},
   "outputs": [
    {
     "name": "stdout",
     "output_type": "stream",
     "text": [
      "[[231.  ]\n",
      " [242.55]\n",
      " [254.1 ]\n",
      " [265.65]\n",
      " [277.2 ]]\n"
     ]
    }
   ],
   "source": [
    "print(future_exog)"
   ]
  },
  {
   "cell_type": "code",
   "execution_count": 13,
   "metadata": {},
   "outputs": [
    {
     "name": "stdout",
     "output_type": "stream",
     "text": [
      "                               SARIMAX Results                                \n",
      "==============================================================================\n",
      "Dep. Variable:          CasesReported   No. Observations:                  270\n",
      "Model:                 ARIMA(3, 2, 1)   Log Likelihood               -2254.430\n",
      "Date:                Tue, 04 Feb 2025   AIC                           4520.859\n",
      "Time:                        01:04:53   BIC                           4542.405\n",
      "Sample:                             0   HQIC                          4529.513\n",
      "                                - 270                                         \n",
      "Covariance Type:                  opg                                         \n",
      "=============================================================================================================================\n",
      "                                                                coef    std err          z      P>|z|      [0.025      0.975]\n",
      "-----------------------------------------------------------------------------------------------------------------------------\n",
      "Total Cases for Investigation (Col.7=Col.4+ Col.5+ Col.6)     0.4447      0.003    173.333      0.000       0.440       0.450\n",
      "ar.L1                                                        -0.9610      0.042    -22.980      0.000      -1.043      -0.879\n",
      "ar.L2                                                        -0.7188      0.049    -14.522      0.000      -0.816      -0.622\n",
      "ar.L3                                                        -0.2452      0.047     -5.245      0.000      -0.337      -0.154\n",
      "ma.L1                                                        -1.0000      0.031    -32.409      0.000      -1.060      -0.940\n",
      "sigma2                                                     1.196e+06   2.58e-08   4.63e+13      0.000     1.2e+06     1.2e+06\n",
      "===================================================================================\n",
      "Ljung-Box (L1) (Q):                   0.24   Jarque-Bera (JB):              3034.94\n",
      "Prob(Q):                              0.62   Prob(JB):                         0.00\n",
      "Heteroskedasticity (H):               4.32   Skew:                            -0.99\n",
      "Prob(H) (two-sided):                  0.00   Kurtosis:                        19.37\n",
      "===================================================================================\n",
      "\n",
      "Warnings:\n",
      "[1] Covariance matrix calculated using the outer product of gradients (complex-step).\n",
      "[2] Covariance matrix is singular or near-singular, with condition number 3.47e+28. Standard errors may be unstable.\n"
     ]
    }
   ],
   "source": [
    "print(arimax_fit.summary())\n"
   ]
  },
  {
   "cell_type": "code",
   "execution_count": 14,
   "metadata": {},
   "outputs": [
    {
     "name": "stdout",
     "output_type": "stream",
     "text": [
      "ARIMAX Forecast Values:\n",
      "270    73.063507\n",
      "271    88.981294\n",
      "272    96.589777\n",
      "273    89.834810\n",
      "274    92.871616\n",
      "Name: predicted_mean, dtype: float64\n"
     ]
    }
   ],
   "source": [
    "print(\"ARIMAX Forecast Values:\")\n",
    "print(arimax_forecast)\n"
   ]
  },
  {
   "cell_type": "code",
   "execution_count": 15,
   "metadata": {},
   "outputs": [
    {
     "name": "stdout",
     "output_type": "stream",
     "text": [
      "Future Exogenous Variables (Exog) Used for Forecasting:\n",
      "[[231.  ]\n",
      " [242.55]\n",
      " [254.1 ]\n",
      " [265.65]\n",
      " [277.2 ]]\n"
     ]
    }
   ],
   "source": [
    "print(\"Future Exogenous Variables (Exog) Used for Forecasting:\")\n",
    "print(future_exog)\n"
   ]
  },
  {
   "cell_type": "code",
   "execution_count": 9,
   "metadata": {},
   "outputs": [],
   "source": [
    "\n",
    "# Convert to DataFrame\n",
    "arimax_df = pd.DataFrame({'ds': future_years, 'yhat_arimax': arimax_forecast})\n"
   ]
  },
  {
   "cell_type": "code",
   "execution_count": 10,
   "metadata": {},
   "outputs": [
    {
     "name": "stdout",
     "output_type": "stream",
     "text": [
      "ARIMAX MAE: 531.53, RMSE: 1095.24\n"
     ]
    }
   ],
   "source": [
    "\n",
    "# Evaluate Model\n",
    "mae_arimax = mean_absolute_error(y, arimax_fit.fittedvalues)\n",
    "rmse_arimax = np.sqrt(mean_squared_error(y, arimax_fit.fittedvalues))\n",
    "print(f'ARIMAX MAE: {mae_arimax:.2f}, RMSE: {rmse_arimax:.2f}')\n"
   ]
  },
  {
   "cell_type": "code",
   "execution_count": 11,
   "metadata": {},
   "outputs": [
    {
     "data": {
      "image/png": "[encoded data removed]",
      "text/plain": [
       "<Figure size 1000x500 with 1 Axes>"
      ]
     },
     "metadata": {},
     "output_type": "display_data"
    }
   ],
   "source": [
    "\n",
    "# Plot Results\n",
    "plt.figure(figsize=(10, 5))\n",
    "plt.plot(df['ds'], df['CasesReported'], 'o-', label='Actual Cases')\n",
    "plt.plot(arimax_df['ds'], arimax_df['yhat_arimax'], 'b--', label='ARIMAX Forecast')\n",
    "plt.xlabel('Year')\n",
    "plt.ylabel('Total Cases')\n",
    "plt.title('Cybercrime Cases Prediction with ARIMAX')\n",
    "plt.legend()\n",
    "plt.grid(True)\n",
    "plt.show()"
   ]
  }
 ],
 "metadata": {
  "kernelspec": {
   "display_name": "Python 3",
   "language": "python",
   "name": "python3"
  },
  "language_info": {
   "codemirror_mode": {
    "name": "ipython",
    "version": 3
   },
   "file_extension": ".py",
   "mimetype": "text/x-python",
   "name": "python",
   "nbconvert_exporter": "python",
   "pygments_lexer": "ipython3",
   "version": "3.13.1"
  }
 },
 "nbformat": 4,
 "nbformat_minor": 2
}
